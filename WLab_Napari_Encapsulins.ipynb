{
 "cells": [
  {
   "cell_type": "markdown",
   "metadata": {},
   "source": [
    "# Westmeyer Lab Napari Implementation for EMcapsulins"
   ]
  },
  {
   "cell_type": "markdown",
   "metadata": {},
   "source": [
    "## Imports"
   ]
  },
  {
   "cell_type": "code",
   "execution_count": 1,
   "metadata": {},
   "outputs": [],
   "source": [
    "import napari\n",
    "from magicgui import magic_factory\n",
    "import matplotlib.pyplot as plt\n",
    "import numpy as np\n",
    "from skimage.measure import label, regionprops, profile_line\n",
    "from skimage import exposure, measure, filters\n",
    "from skimage.draw import disk\n",
    "from scipy.signal import find_peaks\n",
    "from matplotlib.backends.backend_qt5agg import FigureCanvasQTAgg as FigureCanvas\n",
    "import json\n",
    "import os\n",
    "import tifffile\n",
    "from skimage.draw import polygon\n",
    "from PIL import Image, ImageDraw\n",
    "#from plotly.io import to_html\n",
    "#viewer = napari.view_image(nuclei, colormap='magma')"
   ]
  },
  {
   "cell_type": "markdown",
   "metadata": {},
   "source": [
    "## Functions"
   ]
  },
  {
   "cell_type": "markdown",
   "metadata": {},
   "source": [
    "### Extract and filter blobs"
   ]
  },
  {
   "cell_type": "code",
   "execution_count": 2,
   "metadata": {},
   "outputs": [],
   "source": [
    "# Global variables to store the stacked regions and number of images to select\n",
    "stacked_regions = None\n",
    "n_select = 0\n",
    "# Global variables to store the figure and axes\n",
    "fig = None\n",
    "ax = None\n",
    "canvas = None\n",
    "\n",
    "@magic_factory(image_layer={'label': 'Select Image Layer'},\n",
    "               mask_layer={'label': 'Select Mask Layer'})\n",
    "def test_blob_centers(image_layer: 'napari.layers.Image', mask_layer: 'napari.layers.Image', viewer: 'napari.Viewer') -> None:\n",
    "    global stacked_regions\n",
    "\n",
    "    img_data = image_layer.data\n",
    "    mask_data = mask_layer.data\n",
    "\n",
    "    labeled_mask = label(mask_data)\n",
    "\n",
    "    regions = []\n",
    "    for region in regionprops(labeled_mask):\n",
    "        centroid_y, centroid_x = map(int, region.centroid)\n",
    "        min_y, max_y = centroid_y - 25, centroid_y + 25\n",
    "        min_x, max_x = centroid_x - 25, centroid_x + 25\n",
    "\n",
    "        region_img = img_data[max(min_y, 0):max_y, max(min_x, 0):max_x]\n",
    "\n",
    "        if region_img.shape == (50, 50):\n",
    "            regions.append(region_img)\n",
    "\n",
    "    if regions:\n",
    "        stacked_regions = np.array(regions)\n",
    "        viewer.add_image(stacked_regions, name='Stacked Regions')\n",
    "\n",
    "    # Auto-center and zoom\n",
    "    viewer.camera.center = (stacked_regions.shape[2] // 2, stacked_regions.shape[1] // 2)\n",
    "    viewer.camera.zoom = 3  # Adjust zoom level as needed\n",
    "\n",
    "    \n",
    "\n",
    "@magic_factory(\n",
    "    image_layer={'label': 'Select Image Layer'},\n",
    "    n_select={'label': 'Number of Images to Select', 'min': 1, 'max': 100, 'step': 1}\n",
    ")\n",
    "def select_random_images(image_layer: 'napari.layers.Image', n_select: int, viewer: 'napari.Viewer') -> None:\n",
    "    global stacked_regions\n",
    "\n",
    "    if stacked_regions is not None:\n",
    "        # Randomly select n_select images from the stack\n",
    "        selected_indices = np.random.choice(len(stacked_regions), size=min(n_select, len(stacked_regions)), replace=False)\n",
    "        selected_images = stacked_regions[selected_indices]\n",
    "\n",
    "        # Create a grid of selected images\n",
    "        grid_size = int(np.ceil(np.sqrt(len(selected_images))))\n",
    "        grid_img = np.zeros((grid_size * 50, grid_size * 50))\n",
    "\n",
    "        for i, img in enumerate(selected_images):\n",
    "            row = i // grid_size\n",
    "            col = i % grid_size\n",
    "            grid_img[row * 50:(row + 1) * 50, col * 50:(col + 1) * 50] = img\n",
    "\n",
    "        # Add the grid image as a new layer\n",
    "        viewer.add_image(grid_img, name='Selected Squares Grid')\n",
    "        viewer.add_image(selected_images, name='Randomly Selected Squares')\n",
    "    else:\n",
    "        print(\"No regions available. Please run the blob center detection first.\")\n",
    "\n",
    "@magic_factory(image_stack={'label': 'Select Image Stack'})\n",
    "def process_image(image_stack: 'napari.layers.Image', viewer: 'napari.Viewer') -> None:\n",
    "    global fig, ax, canvas\n",
    "\n",
    "    img_stack_data = image_stack.data\n",
    "\n",
    "    radii = []\n",
    "    img_stack_mean = []\n",
    "\n",
    "    # Compute radius for each image in the stack\n",
    "    for img_data in img_stack_data:\n",
    "        # Normalize the image\n",
    "        img_normalized = exposure.rescale_intensity(img_data, in_range='image', out_range=(0, 1))\n",
    "        img_stack_mean.append(img_normalized)\n",
    "\n",
    "        # Apply Sobel filter\n",
    "        edges = filters.sobel(img_normalized)\n",
    "\n",
    "        # Label connected regions\n",
    "        labeled_edges = measure.label(edges > 0.1)\n",
    "        regions = measure.regionprops(labeled_edges)\n",
    "\n",
    "        if regions:\n",
    "            # Find the largest region (assuming the largest one is the circle)\n",
    "            largest_region = max(regions, key=lambda r: r.area)\n",
    "            centroid = (largest_region.centroid[0], largest_region.centroid[1])\n",
    "            \n",
    "            # Create a radial profile from the Sobel-filtered image\n",
    "            rr, cc = disk(centroid, largest_region.equivalent_diameter + 10, shape=edges.shape)\n",
    "            profile = profile_line(edges, (centroid[0], centroid[1]), (cc[-1], rr[-1]), mode='nearest')\n",
    "            \n",
    "            # Find peaks in the radial profile\n",
    "            peaks, _ = find_peaks(profile, distance=10)\n",
    "            \n",
    "            if len(peaks) >= 2:\n",
    "                # Calculate radius as half the distance between the two largest peaks\n",
    "                peak_distances = np.diff(peaks)\n",
    "                radius = peak_distances[np.argmax(peak_distances)] / 2\n",
    "                radii.append(radius)\n",
    "                \n",
    "    # Compute the mean and standard deviation of the radii\n",
    "    mean_radius = np.mean(radii) if radii else 0\n",
    "    std_radius = np.std(radii) if radii else 0\n",
    "    print(f\"Mean Radius of the detected circles: {mean_radius:.2f} pixels\")\n",
    "    print(f\"Standard Deviation of the Radii: {std_radius:.2f} pixels\")\n",
    "\n",
    "    # Compute mean image from the stack\n",
    "    img_mean = np.mean(img_stack_mean, axis=0)\n",
    "    img_mean_normalized = exposure.rescale_intensity(img_mean, in_range='image', out_range=(0, 1))\n",
    "    \n",
    "    # Add the normalized mean image as a new layer\n",
    "    viewer.add_image(img_mean_normalized, name='Mean Image')\n",
    "\n",
    "    # Apply Sobel filter to the mean image\n",
    "    edges = filters.sobel(img_mean_normalized)\n",
    "\n",
    "    # Label connected regions\n",
    "    labeled_edges = measure.label(edges > 0.1)\n",
    "    regions = measure.regionprops(labeled_edges)\n",
    "\n",
    "    if regions:\n",
    "        # Find the largest region (assuming the largest one is the circle)\n",
    "        largest_region = max(regions, key=lambda r: r.area)\n",
    "        centroid = (largest_region.centroid[0], largest_region.centroid[1])\n",
    "        radius = int(largest_region.equivalent_diameter / 2)\n",
    "        radplusten = radius + 10\n",
    "\n",
    "        # Create a new image layer for the Sobel-filtered result\n",
    "        viewer.add_image(edges, name='Sobel Filtered Image')\n",
    "\n",
    "        # Create an overlay for the largest region\n",
    "        regions_overlay = np.zeros_like(edges, dtype=np.int32)  # Ensure integer data type\n",
    "        minr, minc, maxr, maxc = largest_region.bbox\n",
    "        regions_overlay[minr:maxr, minc:maxc] = 1\n",
    "        viewer.add_labels(regions_overlay, name='Detected Circle')\n",
    "\n",
    "        # Calculate and display radial profile from the mean normalized image\n",
    "        rr, cc = disk(centroid, radplusten, shape=img_mean_normalized.shape)\n",
    "        profile = profile_line(img_mean_normalized, (centroid[0], centroid[1]), (cc[-1], rr[-1]), mode='nearest')\n",
    "\n",
    "        # Create the standard deviation profile\n",
    "        std_profile = np.zeros_like(profile)\n",
    "        for i in range(len(profile)):\n",
    "            std_profile[i] = np.std([profile_line(img, (centroid[0], centroid[1]), (cc[-1], rr[-1]), mode='nearest')[i] for img in img_stack_mean])\n",
    "\n",
    "        # Convert pixel indices to nanometers\n",
    "        x_values_nm = np.arange(len(profile)) * 2  # 2 nanometers per pixel\n",
    "\n",
    "        if fig is None and ax is None:\n",
    "            fig, ax = plt.subplots()\n",
    "            canvas = FigureCanvas(fig)\n",
    "            viewer.window.add_dock_widget(canvas, name='Radial Profile')\n",
    "\n",
    "        ax.plot(x_values_nm, profile, label='Mean Intensity')\n",
    "        ax.fill_between(x_values_nm, profile - std_profile, profile + std_profile, color='gray', alpha=0.5, label='Std Dev')\n",
    "        ax.set_title(f'Radial Profile - Mean Radius: {mean_radius*2:.2f} nm, Std Dev: {std_radius*2:.2f} nm')\n",
    "        ax.set_xlabel('Radius (nm)')\n",
    "        ax.set_ylabel('Intensity')\n",
    "        ax.legend()\n",
    "\n",
    "        # Redraw the canvas to update the plot\n",
    "        canvas.draw()\n",
    "    else:\n",
    "        print(\"No regions found.\")\n",
    "\n",
    "\n",
    "\n",
    "@magic_factory(\n",
    "    src_folder={'label': 'Select source folder with JSON files'},\n",
    "    output_folder={'label': 'Select output folder'},\n",
    ")\n",
    "def generate_masks(src_folder: str, output_folder: str) -> None:\n",
    "    \"\"\"\n",
    "    Generate TIF mask images from JSON files in the source folder and save them to the output folder.\n",
    "    \"\"\"\n",
    "    # Create the output directory if it doesn't exist\n",
    "    if not os.path.exists(output_folder):\n",
    "        os.makedirs(output_folder)\n",
    "\n",
    "    # Iterate over all .json files in the source directory\n",
    "    for filename in os.listdir(src_folder):\n",
    "        if filename.endswith('.json'):\n",
    "            json_path = os.path.join(src_folder, filename)\n",
    "\n",
    "            # Load the JSON data\n",
    "            with open(json_path, 'r') as file:\n",
    "                mask_data = json.load(file)\n",
    "\n",
    "            # Generate a dummy image_data array with the desired size 1024x768\n",
    "            image_data = np.zeros((768, 1024), dtype=np.uint8)  # Replace this with actual image loading logic\n",
    "\n",
    "            # Generate the mask image\n",
    "            origin = filename.replace('.json', '.TIF')\n",
    "            output_path = os.path.join(output_folder, origin.replace('.TIF', '_mask.tif'))\n",
    "\n",
    "            # Ensure the image is in the correct size (1024x768) and format\n",
    "            image = Image.fromarray(image_data).convert('L')  # Convert to grayscale (L mode)\n",
    "            image = image.resize((1024, 768), Image.LANCZOS)  # Resize to 1024x768 using LANCZOS filter\n",
    "\n",
    "            # Create the overlay with the new image size\n",
    "            overlay = Image.new('L', image.size, 0)  # 'L' mode for grayscale, background black (0)\n",
    "            draw = ImageDraw.Draw(overlay)\n",
    "            features = mask_data['features']\n",
    "\n",
    "            for feature in features:\n",
    "                shape_type = feature['geometry']['type']\n",
    "                coordinates = feature['geometry']['coordinates']\n",
    "\n",
    "                fill_color = 255  # White color for the areas of interest\n",
    "\n",
    "                if shape_type == 'Polygon':\n",
    "                    outer_coordinates = [(coord[0], coord[1]) for coord in coordinates[0]]\n",
    "                    draw.polygon(outer_coordinates, outline=None, fill=fill_color)\n",
    "                    for inner_coords in coordinates[1:]:\n",
    "                        inner_coordinates = [(coord[0], coord[1]) for coord in inner_coords]\n",
    "                        draw.polygon(inner_coordinates, outline=None, fill=0)  # Transparent fill for holes\n",
    "\n",
    "                elif shape_type == 'MultiPolygon':\n",
    "                    for polygon_coordinates in coordinates:\n",
    "                        outer_coordinates = [(coord[0], coord[1]) for coord in polygon_coordinates[0]]\n",
    "                        draw.polygon(outer_coordinates, outline=None, fill=fill_color)\n",
    "                        for inner_coords in polygon_coordinates[1:]:\n",
    "                            inner_coordinates = [(coord[0], coord[1]) for coord in inner_coords]\n",
    "                            draw.polygon(inner_coordinates, outline=None, fill=0)  # Transparent fill for holes\n",
    "\n",
    "            # Save the mask as a grayscale TIF image\n",
    "            overlay.save(output_path)\n",
    "            print(f\"Saved mask to {output_path}\")"
   ]
  },
  {
   "cell_type": "markdown",
   "metadata": {},
   "source": [
    "### Initialize Napari Window and Dock Widgets"
   ]
  },
  {
   "cell_type": "code",
   "execution_count": 3,
   "metadata": {},
   "outputs": [
    {
     "name": "stderr",
     "output_type": "stream",
     "text": [
      "/opt/homebrew/Caskroom/miniforge/base/envs/napari-env/lib/python3.12/site-packages/pytools/persistent_dict.py:59: UserWarning: pytools.persistent_dict: unable to import 'siphash24.siphash13', falling back to hashlib.sha256\n",
      "  warn(\"pytools.persistent_dict: unable to import 'siphash24.siphash13', \"\n"
     ]
    },
    {
     "name": "stdout",
     "output_type": "stream",
     "text": [
      "Saved mask to /Users/burak/Downloads/Qt_Crabpko_S20_mask.tif\n"
     ]
    },
    {
     "name": "stderr",
     "output_type": "stream",
     "text": [
      "<TiffTag.fromfile> raised TiffFileError('<tifffile.TiffTag 40100 @1450> invalid value offset 4')\n"
     ]
    },
    {
     "name": "stdout",
     "output_type": "stream",
     "text": [
      "Mean Radius of the detected circles: 7.21 pixels\n",
      "Standard Deviation of the Radii: 1.59 pixels\n"
     ]
    },
    {
     "name": "stderr",
     "output_type": "stream",
     "text": [
      "<TiffTag.fromfile> raised TiffFileError('<tifffile.TiffTag 40100 @1450> invalid value offset 4')\n"
     ]
    },
    {
     "name": "stdout",
     "output_type": "stream",
     "text": [
      "Mean Radius of the detected circles: 7.49 pixels\n",
      "Standard Deviation of the Radii: 1.53 pixels\n",
      "Mean Radius of the detected circles: 7.49 pixels\n",
      "Standard Deviation of the Radii: 1.53 pixels\n",
      "Mean Radius of the detected circles: 7.49 pixels\n",
      "Standard Deviation of the Radii: 1.53 pixels\n",
      "Mean Radius of the detected circles: 7.49 pixels\n",
      "Standard Deviation of the Radii: 1.53 pixels\n"
     ]
    }
   ],
   "source": [
    "# Initialize the viewer and widgets\n",
    "viewer = napari.Viewer()\n",
    "\n",
    "# Add the test_blob_centers widget\n",
    "my_widget1 = test_blob_centers()\n",
    "dw1 = viewer.window.add_dock_widget(my_widget1, name=\"Extract Filter and Classify\")\n",
    "\n",
    "# Add the select_random_images widget\n",
    "my_widget2 = select_random_images()\n",
    "dw2 = viewer.window.add_dock_widget(my_widget2, name=\"Select Random Images\")\n",
    "\n",
    "my_widget3 = process_image()\n",
    "dw3 = viewer.window.add_dock_widget(my_widget3, name=\"Process Images\")\n",
    "\n",
    "my_widget4 = generate_masks()\n",
    "dw4 = viewer.window.add_dock_widget(my_widget4, name=\"Convert Mask: JSON to TIF\")\n",
    "\n",
    "@viewer.bind_key('d')\n",
    "def delete_current_image(viewer):\n",
    "    global stacked_regions\n",
    "    if stacked_regions is not None:\n",
    "        z_index = int(viewer.dims.point[0])\n",
    "\n",
    "        # Remove the image at the current z-index\n",
    "        stacked_regions = np.delete(stacked_regions, z_index, axis=0)\n",
    "\n",
    "        # Update the viewer with the modified stack\n",
    "        viewer.layers['Stacked Regions'].data = stacked_regions\n"
   ]
  },
  {
   "cell_type": "markdown",
   "metadata": {},
   "source": [
    "## Testing Area"
   ]
  },
  {
   "cell_type": "code",
   "execution_count": 5,
   "metadata": {},
   "outputs": [
    {
     "name": "stdout",
     "output_type": "stream",
     "text": [
      "[<Image layer 'Randomly Selected Squares' at 0x3274cc1d0>]\n"
     ]
    }
   ],
   "source": [
    "print(viewer.layers)"
   ]
  },
  {
   "cell_type": "code",
   "execution_count": 6,
   "metadata": {},
   "outputs": [
    {
     "name": "stdout",
     "output_type": "stream",
     "text": [
      "(50, 50, 50)\n"
     ]
    }
   ],
   "source": [
    "img = viewer.layers[0]\n",
    "imgdata = img.data\n",
    "#mask = viewer.layers[1]\n",
    "#maskdata = mask.data\n",
    "print(np.shape(imgdata))\n",
    "#print(np.shape(maskdata))\n",
    "#deneme= np.array(data)\n",
    "#viewer.add_image(deneme)"
   ]
  },
  {
   "cell_type": "code",
   "execution_count": 7,
   "metadata": {},
   "outputs": [
    {
     "data": {
      "text/plain": [
       "(0.0, 49.0, 49.0)"
      ]
     },
     "execution_count": 7,
     "metadata": {},
     "output_type": "execute_result"
    }
   ],
   "source": [
    "viewer.dims.point"
   ]
  }
 ],
 "metadata": {
  "kernelspec": {
   "display_name": "napari-env",
   "language": "python",
   "name": "python3"
  },
  "language_info": {
   "codemirror_mode": {
    "name": "ipython",
    "version": 3
   },
   "file_extension": ".py",
   "mimetype": "text/x-python",
   "name": "python",
   "nbconvert_exporter": "python",
   "pygments_lexer": "ipython3",
   "version": "3.12.4"
  }
 },
 "nbformat": 4,
 "nbformat_minor": 2
}
